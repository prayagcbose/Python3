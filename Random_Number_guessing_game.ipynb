{
 "cells": [
  {
   "cell_type": "code",
   "execution_count": 2,
   "metadata": {},
   "outputs": [],
   "source": [
    "import tkinter as tk\n",
    "import random\n",
    "window=tk.Tk()\n",
    "rand_num = random.randint(1,100)\n",
    "lbl_intro = tk.Label(window,text=\"Make a Guess!!!\",\n",
    "                     font=(\"courier\",30))\n",
    "lbl_intro.pack()\n",
    "ent = tk.Entry(window,font=(\"courier\",30),bg=\"light green\",fg=\"white\")\n",
    "ent.pack()\n",
    "def Change(e):\n",
    "    user_num = int(ent.get())\n",
    "    if user_num > rand_num:\n",
    "        lbl_intro.configure(text=\"guess lower\")\n",
    "    elif user_num < rand_num:\n",
    "        lbl_intro.configure(text=\"guess higher\")\n",
    "    else:\n",
    "        lbl_intro.configure(text=\"Hurray!!!!\")\n",
    "    lbl=tk.Label(window,\n",
    "           \n",
    "                 text=user_num,\n",
    "            bg=\"black\",\n",
    "            fg=\"green\",\n",
    "            font=(\"helvetica\",25))\n",
    "    lbl.pack()\n",
    "window.bind(\"<Return>\",Change)\n",
    "window.mainloop()"
   ]
  }
 ],
 "metadata": {
  "kernelspec": {
   "display_name": "Python 3",
   "language": "python",
   "name": "python3"
  },
  "language_info": {
   "codemirror_mode": {
    "name": "ipython",
    "version": 3
   },
   "file_extension": ".py",
   "mimetype": "text/x-python",
   "name": "python",
   "nbconvert_exporter": "python",
   "pygments_lexer": "ipython3",
   "version": "3.7.3"
  }
 },
 "nbformat": 4,
 "nbformat_minor": 2
}
